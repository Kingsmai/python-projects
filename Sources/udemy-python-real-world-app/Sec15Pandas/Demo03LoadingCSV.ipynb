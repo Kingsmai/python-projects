{
 "cells": [
  {
   "cell_type": "code",
   "execution_count": null,
   "id": "fleet-relief",
   "metadata": {},
   "outputs": [],
   "source": [
    "import os\n",
    "os.listdir()"
   ]
  },
  {
   "cell_type": "code",
   "execution_count": null,
   "id": "polar-sharing",
   "metadata": {},
   "outputs": [],
   "source": [
    "import pandas"
   ]
  },
  {
   "cell_type": "code",
   "execution_count": null,
   "id": "insured-mirror",
   "metadata": {},
   "outputs": [],
   "source": [
    "df1 = pandas.read_csv(\"supermarkets.csv\") # csv -> Comma-separated values\n",
    "df1.set_index(\"ID\")"
   ]
  },
  {
   "cell_type": "code",
   "execution_count": null,
   "id": "consolidated-origin",
   "metadata": {},
   "outputs": [],
   "source": [
    "df2 = pandas.read_json(\"supermarkets.json\")\n",
    "df2"
   ]
  },
  {
   "cell_type": "code",
   "execution_count": null,
   "id": "respective-military",
   "metadata": {},
   "outputs": [],
   "source": [
    "df3 = pandas.read_excel(\"supermarkets.xlsx\", sheet_name=0) # sheet_name 是“要读取的那一页excel表”\n",
    "df3"
   ]
  },
  {
   "cell_type": "code",
   "execution_count": null,
   "id": "bronze-daily",
   "metadata": {},
   "outputs": [],
   "source": [
    "df4 = pandas.read_csv(\"supermarkets-commas.txt\")\n",
    "df4"
   ]
  },
  {
   "cell_type": "code",
   "execution_count": null,
   "id": "possible-canberra",
   "metadata": {},
   "outputs": [],
   "source": [
    "df5 = pandas.read_csv(\"supermarkets-semi-colons.txt\", sep=\";\") # read file with different seperate characters\n",
    "df5"
   ]
  },
  {
   "cell_type": "code",
   "execution_count": null,
   "id": "regulation-receptor",
   "metadata": {},
   "outputs": [],
   "source": [
    "df6 = pandas.read_csv(\"supermarkets-no-header.txt\", sep=\";\", header=None) # Read file with none header\n",
    "df6"
   ]
  },
  {
   "cell_type": "code",
   "execution_count": null,
   "id": "gentle-block",
   "metadata": {},
   "outputs": [],
   "source": [
    "df6.columns = [\"ID\", \"Address\", \"City\", \"ZIP\", \"Country\", \"Name\", \"Employees\"] # Set headers\n",
    "df6"
   ]
  },
  {
   "cell_type": "code",
   "execution_count": null,
   "id": "norwegian-circus",
   "metadata": {},
   "outputs": [],
   "source": [
    "df7 = df6.set_index(\"ID\") # set \"ID\" columns as the index, it produces a new dataframe\n",
    "# which means df6 is still the old dataframe\n",
    "df6"
   ]
  },
  {
   "cell_type": "code",
   "execution_count": null,
   "id": "assumed-enclosure",
   "metadata": {},
   "outputs": [],
   "source": [
    "df7"
   ]
  },
  {
   "cell_type": "code",
   "execution_count": null,
   "id": "checked-spell",
   "metadata": {},
   "outputs": [],
   "source": [
    "df6.set_index(\"ID\", inplace=True) # inplace means do not create a new object.\n",
    "df6"
   ]
  },
  {
   "cell_type": "code",
   "execution_count": null,
   "id": "documentary-terror",
   "metadata": {},
   "outputs": [],
   "source": [
    "df6.set_index(\"Address\", inplace=True) # set_index will drop/delete the old index\n",
    "df6 # The column \"ID\" disappeared!"
   ]
  },
  {
   "cell_type": "code",
   "execution_count": null,
   "id": "controlling-machine",
   "metadata": {},
   "outputs": [],
   "source": [
    "# To prevent this:\n",
    "df6.set_index(\"Name\", inplace=True, drop=False) # set Drop to False\n",
    "df6 # The Name remains as column, but the old index \"Address\" had been overwrite"
   ]
  },
  {
   "cell_type": "code",
   "execution_count": null,
   "id": "distinct-tanzania",
   "metadata": {},
   "outputs": [],
   "source": [
    "df6.loc[\"Bready Shop\": \"Ben's Shop\", \"ZIP\":\"Name\"]"
   ]
  },
  {
   "cell_type": "code",
   "execution_count": null,
   "id": "ignored-nelson",
   "metadata": {},
   "outputs": [],
   "source": [
    "df6.loc[\"Sanchez\", \"ZIP\"]"
   ]
  },
  {
   "cell_type": "code",
   "execution_count": null,
   "id": "clear-optimum",
   "metadata": {},
   "outputs": [],
   "source": [
    "df6.loc[:, \"ZIP\"]"
   ]
  },
  {
   "cell_type": "code",
   "execution_count": null,
   "id": "emerging-terminal",
   "metadata": {},
   "outputs": [],
   "source": [
    "list(df6.loc[:, \"ZIP\"])"
   ]
  },
  {
   "cell_type": "code",
   "execution_count": null,
   "id": "lovely-watershed",
   "metadata": {},
   "outputs": [],
   "source": [
    "df6.iloc[1:3, 1:3] # access from index based"
   ]
  },
  {
   "cell_type": "code",
   "execution_count": null,
   "id": "incoming-departure",
   "metadata": {},
   "outputs": [],
   "source": [
    "df6.iloc[:, 1:3] # access from index based"
   ]
  },
  {
   "cell_type": "code",
   "execution_count": null,
   "id": "determined-apollo",
   "metadata": {},
   "outputs": [],
   "source": [
    "df6.iloc[3, 1:3] # access from index based"
   ]
  },
  {
   "cell_type": "code",
   "execution_count": null,
   "id": "indie-valentine",
   "metadata": {},
   "outputs": [],
   "source": [
    "df6"
   ]
  },
  {
   "cell_type": "code",
   "execution_count": null,
   "id": "promising-internship",
   "metadata": {},
   "outputs": [],
   "source": [
    "df6.drop(\"City\", 1, inplace=True) # Delete a column (1 is columns/ 0 is index) inplace\n",
    "df6"
   ]
  },
  {
   "cell_type": "code",
   "execution_count": null,
   "id": "quiet-colorado",
   "metadata": {},
   "outputs": [],
   "source": [
    "df6.drop(\"Ben's Shop\", 0, inplace=True)\n",
    "df6"
   ]
  },
  {
   "cell_type": "code",
   "execution_count": null,
   "id": "productive-medication",
   "metadata": {},
   "outputs": [],
   "source": [
    "df6.drop(df6.index[0:3], 0, inplace=True)\n",
    "df6"
   ]
  },
  {
   "cell_type": "code",
   "execution_count": null,
   "id": "covered-insight",
   "metadata": {},
   "outputs": [],
   "source": [
    "df6.drop(df6.columns[0:3], 1, inplace=True)\n",
    "df6"
   ]
  },
  {
   "cell_type": "code",
   "execution_count": null,
   "id": "forward-victoria",
   "metadata": {},
   "outputs": [],
   "source": [
    "df6.index"
   ]
  },
  {
   "cell_type": "code",
   "execution_count": null,
   "id": "absent-science",
   "metadata": {},
   "outputs": [],
   "source": [
    "df6.columns"
   ]
  },
  {
   "cell_type": "code",
   "execution_count": null,
   "id": "fitted-going",
   "metadata": {},
   "outputs": [],
   "source": [
    "len(df6.index)"
   ]
  },
  {
   "cell_type": "code",
   "execution_count": null,
   "id": "colored-privacy",
   "metadata": {},
   "outputs": [],
   "source": [
    "df6.shape # 返回當前表格有多少行、多少列"
   ]
  },
  {
   "cell_type": "code",
   "execution_count": null,
   "id": "swedish-conditioning",
   "metadata": {},
   "outputs": [],
   "source": [
    "df6.shape[0] * [\"North America\"]"
   ]
  },
  {
   "cell_type": "code",
   "execution_count": null,
   "id": "partial-venezuela",
   "metadata": {},
   "outputs": [],
   "source": [
    "df6[\"Continent\"] = df6.shape[0] * [\"North America\"] # Add columns and data\n",
    "df6"
   ]
  },
  {
   "cell_type": "code",
   "execution_count": null,
   "metadata": {},
   "outputs": [],
   "source": [
    "df6[\"Continent\"] = \"North America\"\n",
    "df6"
   ]
  }
 ],
 "metadata": {
  "kernelspec": {
   "name": "python3",
   "display_name": "Python 3.8.6 64-bit",
   "metadata": {
    "interpreter": {
     "hash": "b0c0edc48a7751c04cc185b8c567f30c63aa07c2afc58cd18864eabd9cb12cd0"
    }
   }
  },
  "language_info": {
   "codemirror_mode": {
    "name": "ipython",
    "version": 3
   },
   "file_extension": ".py",
   "mimetype": "text/x-python",
   "name": "python",
   "nbconvert_exporter": "python",
   "pygments_lexer": "ipython3",
   "version": "3.8.6-final"
  }
 },
 "nbformat": 4,
 "nbformat_minor": 5
}